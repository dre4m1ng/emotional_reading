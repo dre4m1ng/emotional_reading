{
 "cells": [
  {
   "cell_type": "code",
   "execution_count": 1,
   "id": "0d132135-f19a-4786-b998-8cce9fc756e8",
   "metadata": {},
   "outputs": [
    {
     "name": "stdout",
     "output_type": "stream",
     "text": [
      "/Users/b05/Desktop/Desktop - b05의 iMac/emotional_reading\n",
      "/Users/b05/Desktop/Desktop - b05의 iMac/emotional_reading/data\n"
     ]
    },
    {
     "name": "stderr",
     "output_type": "stream",
     "text": [
      "/opt/homebrew/Caskroom/miniconda/base/envs/mnc-avo/lib/python3.11/site-packages/IPython/core/magics/osm.py:417: UserWarning: using dhist requires you to install the `pickleshare` library.\n",
      "  self.shell.db['dhist'] = compress_dhist(dhist)[-100:]\n"
     ]
    }
   ],
   "source": [
    "%cd ../\n",
    "%cd ./data/"
   ]
  },
  {
   "cell_type": "code",
   "execution_count": 8,
   "id": "574f88ea-8da6-4e84-aa3c-bd4e4e71870a",
   "metadata": {},
   "outputs": [
    {
     "name": "stderr",
     "output_type": "stream",
     "text": [
      "100%|█████████████████████████████████████████| 504/504 [00:07<00:00, 67.35it/s]"
     ]
    },
    {
     "name": "stdout",
     "output_type": "stream",
     "text": [
      "Zipping process completed.\n"
     ]
    },
    {
     "name": "stderr",
     "output_type": "stream",
     "text": [
      "\n"
     ]
    }
   ],
   "source": [
    "import os\n",
    "import sys\n",
    "import zipfile\n",
    "import glob\n",
    "target_path = './gutenberg_zip_files'\n",
    "base_path = './text/gutenberg_crawled'\n",
    "all_file_titles = glob.glob(f'{base_path}/*.pkl')\n",
    "from tqdm import tqdm\n",
    "\n",
    "os.makedirs(target_path, exist_ok=True)\n",
    "\n",
    "# Get all .pkl files and sort them\n",
    "all_file_paths = sorted(glob.glob(f'{base_path}/*.pkl'))\n",
    "\n",
    "# Process files in batches of 500\n",
    "start_num = None\n",
    "zip_file = None\n",
    "\n",
    "for file_path in tqdm(all_file_paths):\n",
    "    current_num = int(os.path.basename(file_path).split('_')[0])\n",
    "\n",
    "    # Start a new zip file if start_num is None or if current_num is 500 numbers ahead\n",
    "    if start_num is None or current_num >= start_num + 500:\n",
    "        # Close the previous zip file, if it exists\n",
    "        if zip_file is not None:\n",
    "            zip_file.close()\n",
    "\n",
    "        start_num = current_num  # Set the new start number\n",
    "        zip_filename = f'{target_path}/{start_num}-{start_num + 499}.zip'\n",
    "        zip_file = zipfile.ZipFile(zip_filename, 'w')\n",
    "\n",
    "    # Add the current file to the zip\n",
    "    file_name = os.path.basename(file_path)\n",
    "    zip_file.write(file_path, arcname=file_name, compress_type=zipfile.ZIP_DEFLATED)\n",
    "\n",
    "# Close the last zip file\n",
    "if zip_file is not None:\n",
    "    zip_file.close()\n",
    "\n",
    "print(\"Zipping process completed.\")"
   ]
  },
  {
   "cell_type": "code",
   "execution_count": null,
   "id": "399dd66f-acda-40e9-8871-dbf7d2cc04f6",
   "metadata": {},
   "outputs": [],
   "source": []
  }
 ],
 "metadata": {
  "kernelspec": {
   "display_name": "Python 3 (ipykernel)",
   "language": "python",
   "name": "python3"
  },
  "language_info": {
   "codemirror_mode": {
    "name": "ipython",
    "version": 3
   },
   "file_extension": ".py",
   "mimetype": "text/x-python",
   "name": "python",
   "nbconvert_exporter": "python",
   "pygments_lexer": "ipython3",
   "version": "3.11.5"
  }
 },
 "nbformat": 4,
 "nbformat_minor": 5
}
