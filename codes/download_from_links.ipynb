{
 "cells": [
  {
   "cell_type": "code",
   "execution_count": 1,
   "id": "9fb84224-8138-45ed-9aa3-7359538598fc",
   "metadata": {},
   "outputs": [
    {
     "name": "stdout",
     "output_type": "stream",
     "text": [
      "Alice in Wonderland.pdf\n",
      "Alice's Adventures in Wonderland by Lewis Carroll.zip\n",
      "Fairy Tales from Hans Christian Andersen.pdf\n",
      "Moby Dick; Or, The Whale by Herman Melville.zip\n",
      "Pride and Prejudice by Jane Austen.zip\n",
      "README.md\n",
      "Romeo and Juliet by William Shakespeare.zip\n",
      "a Little Princess by Frances Hodgson Burnett.zip\n",
      "crime and punishment.zip\n",
      "download_from_links.ipynb\n",
      "game of thrones.csv\n",
      "lesmisrables.zip\n",
      "light-novel-titles.csv\n",
      "lightnovellinks.zip\n",
      "lotr characters.zip\n",
      "mobydick.zip\n",
      "some novels.zip\n",
      "somelightnovels.zip\n",
      "war and peace.zip\n"
     ]
    }
   ],
   "source": [
    "%ls"
   ]
  },
  {
   "cell_type": "code",
   "execution_count": 16,
   "id": "4b28ccbf-bd23-418b-8776-d7c2cada01cc",
   "metadata": {},
   "outputs": [],
   "source": [
    "import requests\n",
    "from urllib.request import urlopen\n",
    "from urllib.parse import quote_plus\n",
    "from bs4 import BeautifulSoup\n",
    "import re\n",
    "import pandas as pd\n",
    "from tqdm import tqdm"
   ]
  },
  {
   "cell_type": "code",
   "execution_count": null,
   "id": "d9400286-83ba-4261-926d-3a73a9aef4c0",
   "metadata": {},
   "outputs": [],
   "source": []
  },
  {
   "cell_type": "code",
   "execution_count": 32,
   "id": "83d19bfd-c853-4ca1-baf2-40e5ca40f333",
   "metadata": {},
   "outputs": [
    {
     "name": "stdout",
     "output_type": "stream",
     "text": [
      "Failed to fetch text for count 114\n"
     ]
    }
   ],
   "source": [
    "switch = True\n",
    "count = 88\n",
    "while switch:\n",
    "    url = f'https://www.gutenberg.org/cache/epub/{count}/pg{count}.txt'\n",
    "    try:\n",
    "        response = requests.get(url)\n",
    "        if response.status_code == 200:\n",
    "            text = response.text\n",
    "            title_line = text.split('\\n', 1)[0]\n",
    "            pattern = '[^a-zA-Z0-9+]'\n",
    "            title = title_line.replace('The Project Gutenberg eBook of ', '').strip()\n",
    "            title = re.sub(pattern, '', title)\n",
    "\n",
    "            # Save the text to a file\n",
    "            with open(f'./gutenberg_crawled/{count}_{title}.txt', 'w', encoding='utf-8') as file:\n",
    "                file.write(text)\n",
    "\n",
    "            # if count == 1:\n",
    "            #     print(f'First 10 characters of the book: {text[:10]}')\n",
    "            count += 1\n",
    "        else:\n",
    "            print(f'Failed to fetch text for count {count}')\n",
    "            switch = False\n",
    "\n",
    "    except Exception as e:\n",
    "        print(f'An error occurred: {e}')\n",
    "        continue\n",
    "    if count == 70000:\n",
    "        switch = False"
   ]
  },
  {
   "cell_type": "code",
   "execution_count": null,
   "id": "23fe5296-d17a-486d-8651-18b5e2cb8d47",
   "metadata": {},
   "outputs": [],
   "source": []
  }
 ],
 "metadata": {
  "kernelspec": {
   "display_name": "Python 3 (ipykernel)",
   "language": "python",
   "name": "python3"
  },
  "language_info": {
   "codemirror_mode": {
    "name": "ipython",
    "version": 3
   },
   "file_extension": ".py",
   "mimetype": "text/x-python",
   "name": "python",
   "nbconvert_exporter": "python",
   "pygments_lexer": "ipython3",
   "version": "3.11.5"
  }
 },
 "nbformat": 4,
 "nbformat_minor": 5
}
